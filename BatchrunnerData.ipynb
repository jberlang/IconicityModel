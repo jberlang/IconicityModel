{
 "cells": [
  {
   "cell_type": "markdown",
   "metadata": {},
   "source": [
    "# Packages"
   ]
  },
  {
   "cell_type": "markdown",
   "metadata": {},
   "source": [
    "The cell below contains the packages that are used in the code."
   ]
  },
  {
   "cell_type": "code",
   "execution_count": 1,
   "metadata": {},
   "outputs": [],
   "source": [
    "from mesa.batchrunner import BatchRunner\n",
    "from IconicityModel import *\n",
    "import pandas as pd"
   ]
  },
  {
   "cell_type": "markdown",
   "metadata": {},
   "source": [
    "# BatchRunner"
   ]
  },
  {
   "cell_type": "markdown",
   "metadata": {},
   "source": [
    "## Helper functions"
   ]
  },
  {
   "cell_type": "markdown",
   "metadata": {},
   "source": [
    "Runs the batchrunner for a certain amount of episodes and steps."
   ]
  },
  {
   "cell_type": "code",
   "execution_count": 2,
   "metadata": {},
   "outputs": [],
   "source": [
    "def run_batchrunner(model, fixed_pm, variable_pm, nb_iterations, nb_steps):\n",
    "    batch_run = BatchRunner(model,\n",
    "                           variable_pm,\n",
    "                           fixed_pm,\n",
    "                           iterations = nb_iterations,\n",
    "                           max_steps = nb_steps,\n",
    "                           model_reporters={\"Total avg. iconicity\": compute_total_average_iconicity,\n",
    "                                            \"L1 avg. iconicity\": compute_l1_average_iconicity,\n",
    "                                            \"L2 avg. iconicity\": compute_l2_average_iconicity})\n",
    "    batch_run.run_all()\n",
    "    return batch_run.get_model_vars_dataframe()\n",
    "\n",
    "def print_dataframe(dataframe, variable_pm):\n",
    "    return dataframe[[variable_pm, \"Run\", \"L1 avg. iconicity\", \"L2 avg. iconicity\", \"Total avg. iconicity\"]]"
   ]
  },
  {
   "cell_type": "markdown",
   "metadata": {},
   "source": [
    "Calculates the average iconicity for each iteration."
   ]
  },
  {
   "cell_type": "code",
   "execution_count": 4,
   "metadata": {},
   "outputs": [],
   "source": [
    "def calculate_average_per_iteration(data, pm_values, nb_iterations):\n",
    "    results = []\n",
    "    \n",
    "    for i in range(0, nb_iterations * len(pm_values), nb_iterations):\n",
    "        raw_results = data[i:i + nb_iterations].tolist()\n",
    "        average_result = sum(raw_results) / len(raw_results)\n",
    "        results.append(average_result)\n",
    "    \n",
    "    return results"
   ]
  },
  {
   "cell_type": "markdown",
   "metadata": {},
   "source": [
    "Plots the iconicity levels given the data and the labels."
   ]
  },
  {
   "cell_type": "code",
   "execution_count": 5,
   "metadata": {},
   "outputs": [],
   "source": [
    "def plot_average_iconicity(x_label, x_data, y_label, y_data):\n",
    "    df = pd.DataFrame({x_label: x_data, y_label: y_data})\n",
    "    df.plot.bar(x=x_label, y=y_label, rot=0)"
   ]
  },
  {
   "cell_type": "markdown",
   "metadata": {},
   "source": [
    "Selects the data from the dataframe and generates the labels to plot by calling plot_average_iconicity."
   ]
  },
  {
   "cell_type": "code",
   "execution_count": 6,
   "metadata": {},
   "outputs": [],
   "source": [
    "def plot_average_iconicities(df, pm_values, y_label, nb_iterations):\n",
    "    total_average_iconicity = df[\"Total avg. iconicity\"]\n",
    "    l1_average_iconicity = df[\"L1 avg. iconicity\"]\n",
    "    l2_average_iconicity = df[\"L2 avg. iconicity\"]\n",
    "\n",
    "    avg_total_iconicity_levels = calculate_average_per_iteration(total_average_iconicity, pm_values, nb_iterations)\n",
    "    avg_l1_iconicity_levels = calculate_average_per_iteration(l1_average_iconicity, pm_values, nb_iterations)\n",
    "    avg_l2_iconicity_levels = calculate_average_per_iteration(l2_average_iconicity, pm_values, nb_iterations)\n",
    "\n",
    "    total_df = plot_average_iconicity(y_label, pm_values, \"Total iconicity level\", avg_total_iconicity_levels)\n",
    "    l1_df = plot_average_iconicity(y_label, pm_values, \"L1 iconicity level\", avg_l1_iconicity_levels)\n",
    "    l2_df = plot_average_iconicity(y_label, pm_values, \"L2 iconicity level\", avg_l2_iconicity_levels)"
   ]
  },
  {
   "cell_type": "markdown",
   "metadata": {},
   "source": [
    "## Parameter exploration"
   ]
  },
  {
   "cell_type": "markdown",
   "metadata": {},
   "source": [
    "### L2 replace chance"
   ]
  },
  {
   "cell_type": "markdown",
   "metadata": {},
   "source": [
    "First we try several proportions for the replacement policy. Each value represents the chance of an agent being replaced by an L2 agent."
   ]
  },
  {
   "cell_type": "code",
   "execution_count": 8,
   "metadata": {},
   "outputs": [
    {
     "name": "stderr",
     "output_type": "stream",
     "text": [
      "4it [00:00, 15.03it/s]"
     ]
    },
    {
     "name": "stdout",
     "output_type": "stream",
     "text": [
      "STATISTICS FOR L2 REPLACEMENT CHANCE PARAMETER EXPLORATION\n",
      " - Possible values: [20, 50, 70, 90]\n",
      " - Ran for 1 iteration(s) and 1 steps per iteration\n",
      " - Data from running the model for 1 iteration(s) for each parameter value:\n"
     ]
    },
    {
     "name": "stderr",
     "output_type": "stream",
     "text": [
      "\n"
     ]
    },
    {
     "data": {
      "text/html": [
       "<div>\n",
       "<style scoped>\n",
       "    .dataframe tbody tr th:only-of-type {\n",
       "        vertical-align: middle;\n",
       "    }\n",
       "\n",
       "    .dataframe tbody tr th {\n",
       "        vertical-align: top;\n",
       "    }\n",
       "\n",
       "    .dataframe thead th {\n",
       "        text-align: right;\n",
       "    }\n",
       "</style>\n",
       "<table border=\"1\" class=\"dataframe\">\n",
       "  <thead>\n",
       "    <tr style=\"text-align: right;\">\n",
       "      <th></th>\n",
       "      <th>l2_replace_chance</th>\n",
       "      <th>Run</th>\n",
       "      <th>L1 avg. iconicity</th>\n",
       "      <th>L2 avg. iconicity</th>\n",
       "      <th>Total avg. iconicity</th>\n",
       "    </tr>\n",
       "  </thead>\n",
       "  <tbody>\n",
       "    <tr>\n",
       "      <th>0</th>\n",
       "      <td>20</td>\n",
       "      <td>0</td>\n",
       "      <td>0.82</td>\n",
       "      <td>0</td>\n",
       "      <td>0.82</td>\n",
       "    </tr>\n",
       "    <tr>\n",
       "      <th>1</th>\n",
       "      <td>50</td>\n",
       "      <td>1</td>\n",
       "      <td>0.81</td>\n",
       "      <td>0</td>\n",
       "      <td>0.81</td>\n",
       "    </tr>\n",
       "    <tr>\n",
       "      <th>2</th>\n",
       "      <td>70</td>\n",
       "      <td>2</td>\n",
       "      <td>0.81</td>\n",
       "      <td>0</td>\n",
       "      <td>0.81</td>\n",
       "    </tr>\n",
       "    <tr>\n",
       "      <th>3</th>\n",
       "      <td>90</td>\n",
       "      <td>3</td>\n",
       "      <td>0.82</td>\n",
       "      <td>0</td>\n",
       "      <td>0.82</td>\n",
       "    </tr>\n",
       "  </tbody>\n",
       "</table>\n",
       "</div>"
      ],
      "text/plain": [
       "   l2_replace_chance  Run  L1 avg. iconicity  L2 avg. iconicity  \\\n",
       "0                 20    0               0.82                  0   \n",
       "1                 50    1               0.81                  0   \n",
       "2                 70    2               0.81                  0   \n",
       "3                 90    3               0.82                  0   \n",
       "\n",
       "   Total avg. iconicity  \n",
       "0                  0.82  \n",
       "1                  0.81  \n",
       "2                  0.81  \n",
       "3                  0.82  "
      ]
     },
     "execution_count": 8,
     "metadata": {},
     "output_type": "execute_result"
    }
   ],
   "source": [
    "# define the values of the variable pm and amount of iterations and steps per iteration\n",
    "proportions = [20, 50, 70, 90]\n",
    "nb_iterations = 10\n",
    "nb_steps = 100\n",
    "\n",
    "# define the fixed and variable parameters\n",
    "fixed_pm = {\"width\": 10,\n",
    "            \"height\": 10,\n",
    "            \"vocab_size\": 10,\n",
    "            \"word_length\": 5,\n",
    "            \"turnover_chance\": 20,\n",
    "            \"turnover_threshold\": 10,\n",
    "            \"initial_degree_of_iconicity\": 100,\n",
    "            \"learning_error_degree\": 20,\n",
    "            \"l2_radius\": 100}\n",
    "variable_pm = {\"l2_replace_chance\": proportions}\n",
    "\n",
    "# run the batchrunner\n",
    "df = run_batchrunner(IconicityModel, fixed_pm, variable_pm, nb_iterations, nb_steps)\n",
    "\n",
    "# print the statistics\n",
    "print(\"STATISTICS FOR L2 REPLACEMENT CHANCE PARAMETER EXPLORATION\")\n",
    "print(\" - Possible values: \" + str(proportions))\n",
    "print(\" - Ran for \" + str(nb_iterations) + \" iteration(s) and \" + str(nb_steps) + \" steps per iteration\")\n",
    "print(\" - Data from running the model for \" + str(nb_iterations) + \" iteration(s) for each parameter value:\")\n",
    "print_dataframe(df, \"l2_replace_chance\")"
   ]
  },
  {
   "cell_type": "code",
   "execution_count": 9,
   "metadata": {},
   "outputs": [
    {
     "name": "stdout",
     "output_type": "stream",
     "text": [
      " - Iconicity levels from running the model for 1 iteration(s) for each parameter value:\n"
     ]
    },
    {
     "data": {
      "image/png": "[encoded data removed]",
      "text/plain": [
       "<Figure size 432x288 with 1 Axes>"
      ]
     },
     "metadata": {
      "needs_background": "light"
     },
     "output_type": "display_data"
    },
    {
     "data": {
      "image/png": "[encoded data removed]",
      "text/plain": [
       "<Figure size 432x288 with 1 Axes>"
      ]
     },
     "metadata": {
      "needs_background": "light"
     },
     "output_type": "display_data"
    },
    {
     "data": {
      "image/png": "[encoded data removed]",
      "text/plain": [
       "<Figure size 432x288 with 1 Axes>"
      ]
     },
     "metadata": {
      "needs_background": "light"
     },
     "output_type": "display_data"
    }
   ],
   "source": [
    "# draw L2 replacement proportion PM exploration\n",
    "print(\" - Iconicity levels from running the model for \" + str(nb_iterations) + \" iteration(s) for each parameter value:\")\n",
    "plot_average_iconicities(df, proportions, \"L2 replacement proportion (%)\", nb_iterations)"
   ]
  },
  {
   "cell_type": "markdown",
   "metadata": {},
   "source": [
    "### L2 radius"
   ]
  },
  {
   "cell_type": "markdown",
   "metadata": {},
   "source": [
    "Then we try several radiuses from which an L2 learner can acquire signs from."
   ]
  },
  {
   "cell_type": "code",
   "execution_count": 10,
   "metadata": {},
   "outputs": [
    {
     "name": "stderr",
     "output_type": "stream",
     "text": [
      "2it [00:00, 15.10it/s]"
     ]
    },
    {
     "name": "stdout",
     "output_type": "stream",
     "text": [
      "STATISTICS FOR L2 LEARNING RADIUS PARAMETER EXPLORATION\n",
      " - Possible values: [1, 10, 30, 50, 70, 90, 100]\n",
      " - Ran for 1 iteration(s) and 1 steps per iteration\n",
      "\n",
      " - Data from running the model for 1 iteration(s) for each parameter value:\n"
     ]
    },
    {
     "name": "stderr",
     "output_type": "stream",
     "text": [
      "7it [00:00, 16.21it/s]\n"
     ]
    },
    {
     "data": {
      "text/html": [
       "<div>\n",
       "<style scoped>\n",
       "    .dataframe tbody tr th:only-of-type {\n",
       "        vertical-align: middle;\n",
       "    }\n",
       "\n",
       "    .dataframe tbody tr th {\n",
       "        vertical-align: top;\n",
       "    }\n",
       "\n",
       "    .dataframe thead th {\n",
       "        text-align: right;\n",
       "    }\n",
       "</style>\n",
       "<table border=\"1\" class=\"dataframe\">\n",
       "  <thead>\n",
       "    <tr style=\"text-align: right;\">\n",
       "      <th></th>\n",
       "      <th>l2_radius</th>\n",
       "      <th>Run</th>\n",
       "      <th>L1 avg. iconicity</th>\n",
       "      <th>L2 avg. iconicity</th>\n",
       "      <th>Total avg. iconicity</th>\n",
       "    </tr>\n",
       "  </thead>\n",
       "  <tbody>\n",
       "    <tr>\n",
       "      <th>0</th>\n",
       "      <td>1</td>\n",
       "      <td>0</td>\n",
       "      <td>0.81</td>\n",
       "      <td>0</td>\n",
       "      <td>0.81</td>\n",
       "    </tr>\n",
       "    <tr>\n",
       "      <th>1</th>\n",
       "      <td>10</td>\n",
       "      <td>1</td>\n",
       "      <td>0.82</td>\n",
       "      <td>0</td>\n",
       "      <td>0.82</td>\n",
       "    </tr>\n",
       "    <tr>\n",
       "      <th>2</th>\n",
       "      <td>30</td>\n",
       "      <td>2</td>\n",
       "      <td>0.81</td>\n",
       "      <td>0</td>\n",
       "      <td>0.81</td>\n",
       "    </tr>\n",
       "    <tr>\n",
       "      <th>3</th>\n",
       "      <td>50</td>\n",
       "      <td>3</td>\n",
       "      <td>0.81</td>\n",
       "      <td>0</td>\n",
       "      <td>0.81</td>\n",
       "    </tr>\n",
       "    <tr>\n",
       "      <th>4</th>\n",
       "      <td>70</td>\n",
       "      <td>4</td>\n",
       "      <td>0.81</td>\n",
       "      <td>0</td>\n",
       "      <td>0.81</td>\n",
       "    </tr>\n",
       "    <tr>\n",
       "      <th>5</th>\n",
       "      <td>90</td>\n",
       "      <td>5</td>\n",
       "      <td>0.81</td>\n",
       "      <td>0</td>\n",
       "      <td>0.81</td>\n",
       "    </tr>\n",
       "    <tr>\n",
       "      <th>6</th>\n",
       "      <td>100</td>\n",
       "      <td>6</td>\n",
       "      <td>0.81</td>\n",
       "      <td>0</td>\n",
       "      <td>0.81</td>\n",
       "    </tr>\n",
       "  </tbody>\n",
       "</table>\n",
       "</div>"
      ],
      "text/plain": [
       "   l2_radius  Run  L1 avg. iconicity  L2 avg. iconicity  Total avg. iconicity\n",
       "0          1    0               0.81                  0                  0.81\n",
       "1         10    1               0.82                  0                  0.82\n",
       "2         30    2               0.81                  0                  0.81\n",
       "3         50    3               0.81                  0                  0.81\n",
       "4         70    4               0.81                  0                  0.81\n",
       "5         90    5               0.81                  0                  0.81\n",
       "6        100    6               0.81                  0                  0.81"
      ]
     },
     "execution_count": 10,
     "metadata": {},
     "output_type": "execute_result"
    }
   ],
   "source": [
    "# define the values of the variable pm and amount of iterations and steps per iteration\n",
    "radiuses = [1, 10, 30, 50, 70, 90, 100]\n",
    "nb_iterations = 10\n",
    "nb_steps = 100\n",
    "\n",
    "# define the fixed and variable parameters\n",
    "fixed_pm = {\"width\": 10,\n",
    "            \"height\": 10,\n",
    "            \"vocab_size\": 10,\n",
    "            \"word_length\": 5,\n",
    "            \"turnover_chance\": 20,\n",
    "            \"turnover_threshold\": 10,\n",
    "            \"initial_degree_of_iconicity\": 100,\n",
    "            \"learning_error_degree\": 20,\n",
    "            \"l2_replace_chance\": 50}\n",
    "variable_pm = {\"l2_radius\": radiuses}\n",
    "\n",
    "# run the batchrunner\n",
    "df = run_batchrunner(IconicityModel, fixed_pm, variable_pm, nb_iterations, nb_steps)\n",
    "\n",
    "# print the statistics\n",
    "print(\"STATISTICS FOR L2 LEARNING RADIUS PARAMETER EXPLORATION\")\n",
    "print(\" - Possible values: \" + str(radiuses))\n",
    "print(\" - Ran for \" + str(nb_iterations) + \" iteration(s) and \" + str(nb_steps) + \" steps per iteration\\n\")\n",
    "print(\" - Data from running the model for \" + str(nb_iterations) + \" iteration(s) for each parameter value:\")\n",
    "print_dataframe(df, \"l2_radius\")"
   ]
  },
  {
   "cell_type": "code",
   "execution_count": 11,
   "metadata": {},
   "outputs": [
    {
     "name": "stdout",
     "output_type": "stream",
     "text": [
      " - Iconicity levels from running the model for 1 iteration(s) for each parameter value:\n"
     ]
    },
    {
     "data": {
      "image/png": "[encoded data removed]",
      "text/plain": [
       "<Figure size 432x288 with 1 Axes>"
      ]
     },
     "metadata": {
      "needs_background": "light"
     },
     "output_type": "display_data"
    },
    {
     "data": {
      "image/png": "[encoded data removed]",
      "text/plain": [
       "<Figure size 432x288 with 1 Axes>"
      ]
     },
     "metadata": {
      "needs_background": "light"
     },
     "output_type": "display_data"
    },
    {
     "data": {
      "image/png": "[encoded data removed]",
      "text/plain": [
       "<Figure size 432x288 with 1 Axes>"
      ]
     },
     "metadata": {
      "needs_background": "light"
     },
     "output_type": "display_data"
    }
   ],
   "source": [
    "# draw L2 learning radius PM exploration\n",
    "print(\" - Iconicity levels from running the model for \" + str(nb_iterations) + \" iteration(s) for each parameter value:\")\n",
    "plot_average_iconicities(df, radiuses, \"L2 learning radius (cell)\", nb_iterations)"
   ]
  },
  {
   "cell_type": "markdown",
   "metadata": {},
   "source": [
    "### Turnover chance"
   ]
  },
  {
   "cell_type": "markdown",
   "metadata": {},
   "source": [
    "Then we try the turnover chance of the agents. This will determine the chance of an agent dying when it has reached age 2 or higher."
   ]
  },
  {
   "cell_type": "code",
   "execution_count": 13,
   "metadata": {},
   "outputs": [
    {
     "name": "stderr",
     "output_type": "stream",
     "text": [
      "2it [00:00, 14.79it/s]"
     ]
    },
    {
     "name": "stdout",
     "output_type": "stream",
     "text": [
      "STATISTICS FOR TURNOVER CHANCE PARAMETER EXPLORATION\n",
      " - Possible values: [10, 30, 50, 70, 90]\n",
      " - Ran for 1 iteration(s) and 1 steps per iteration\n",
      "\n",
      " - Data from running the model for 1 iteration(s) for each parameter value:\n"
     ]
    },
    {
     "name": "stderr",
     "output_type": "stream",
     "text": [
      "5it [00:00, 15.37it/s]\n"
     ]
    },
    {
     "data": {
      "text/html": [
       "<div>\n",
       "<style scoped>\n",
       "    .dataframe tbody tr th:only-of-type {\n",
       "        vertical-align: middle;\n",
       "    }\n",
       "\n",
       "    .dataframe tbody tr th {\n",
       "        vertical-align: top;\n",
       "    }\n",
       "\n",
       "    .dataframe thead th {\n",
       "        text-align: right;\n",
       "    }\n",
       "</style>\n",
       "<table border=\"1\" class=\"dataframe\">\n",
       "  <thead>\n",
       "    <tr style=\"text-align: right;\">\n",
       "      <th></th>\n",
       "      <th>turnover_chance</th>\n",
       "      <th>Run</th>\n",
       "      <th>L1 avg. iconicity</th>\n",
       "      <th>L2 avg. iconicity</th>\n",
       "      <th>Total avg. iconicity</th>\n",
       "    </tr>\n",
       "  </thead>\n",
       "  <tbody>\n",
       "    <tr>\n",
       "      <th>0</th>\n",
       "      <td>10</td>\n",
       "      <td>0</td>\n",
       "      <td>0.81</td>\n",
       "      <td>0</td>\n",
       "      <td>0.81</td>\n",
       "    </tr>\n",
       "    <tr>\n",
       "      <th>1</th>\n",
       "      <td>30</td>\n",
       "      <td>1</td>\n",
       "      <td>0.81</td>\n",
       "      <td>0</td>\n",
       "      <td>0.81</td>\n",
       "    </tr>\n",
       "    <tr>\n",
       "      <th>2</th>\n",
       "      <td>50</td>\n",
       "      <td>2</td>\n",
       "      <td>0.82</td>\n",
       "      <td>0</td>\n",
       "      <td>0.82</td>\n",
       "    </tr>\n",
       "    <tr>\n",
       "      <th>3</th>\n",
       "      <td>70</td>\n",
       "      <td>3</td>\n",
       "      <td>0.81</td>\n",
       "      <td>0</td>\n",
       "      <td>0.81</td>\n",
       "    </tr>\n",
       "    <tr>\n",
       "      <th>4</th>\n",
       "      <td>90</td>\n",
       "      <td>4</td>\n",
       "      <td>0.81</td>\n",
       "      <td>0</td>\n",
       "      <td>0.81</td>\n",
       "    </tr>\n",
       "  </tbody>\n",
       "</table>\n",
       "</div>"
      ],
      "text/plain": [
       "   turnover_chance  Run  L1 avg. iconicity  L2 avg. iconicity  \\\n",
       "0               10    0               0.81                  0   \n",
       "1               30    1               0.81                  0   \n",
       "2               50    2               0.82                  0   \n",
       "3               70    3               0.81                  0   \n",
       "4               90    4               0.81                  0   \n",
       "\n",
       "   Total avg. iconicity  \n",
       "0                  0.81  \n",
       "1                  0.81  \n",
       "2                  0.82  \n",
       "3                  0.81  \n",
       "4                  0.81  "
      ]
     },
     "execution_count": 13,
     "metadata": {},
     "output_type": "execute_result"
    }
   ],
   "source": [
    "# define the values of the variable pm and amount of iterations and steps per iteration\n",
    "chances = [10, 30, 50, 70, 90]\n",
    "nb_iterations = 10\n",
    "nb_steps = 100\n",
    "\n",
    "# define the fixed and variable parameters\n",
    "fixed_pm = {\"width\": 10,\n",
    "            \"height\": 10,\n",
    "            \"vocab_size\": 10,\n",
    "            \"word_length\": 5,\n",
    "            \"turnover_threshold\": 10,\n",
    "            \"initial_degree_of_iconicity\": 100,\n",
    "            \"learning_error_degree\": 20,\n",
    "            \"l2_radius\": 100,\n",
    "            \"l2_replace_chance\": 50}\n",
    "variable_pm = {\"turnover_chance\": chances}\n",
    "\n",
    "# run the batchrunner\n",
    "df = run_batchrunner(IconicityModel, fixed_pm, variable_pm, nb_iterations, nb_steps)\n",
    "\n",
    "# print the statistics\n",
    "print(\"STATISTICS FOR TURNOVER CHANCE PARAMETER EXPLORATION\")\n",
    "print(\" - Possible values: \" + str(chances))\n",
    "print(\" - Ran for \" + str(nb_iterations) + \" iteration(s) and \" + str(nb_steps) + \" steps per iteration\\n\")\n",
    "print(\" - Data from running the model for \" + str(nb_iterations) + \" iteration(s) for each parameter value:\")\n",
    "print_dataframe(df, \"turnover_chance\")"
   ]
  },
  {
   "cell_type": "code",
   "execution_count": 14,
   "metadata": {},
   "outputs": [
    {
     "name": "stdout",
     "output_type": "stream",
     "text": [
      " - Iconicity levels from running the model for 1 iteration(s) for each parameter value:\n"
     ]
    },
    {
     "data": {
      "image/png": "[encoded data removed]",
      "text/plain": [
       "<Figure size 432x288 with 1 Axes>"
      ]
     },
     "metadata": {
      "needs_background": "light"
     },
     "output_type": "display_data"
    },
    {
     "data": {
      "image/png": "[encoded data removed]",
      "text/plain": [
       "<Figure size 432x288 with 1 Axes>"
      ]
     },
     "metadata": {
      "needs_background": "light"
     },
     "output_type": "display_data"
    },
    {
     "data": {
      "image/png": "[encoded data removed]",
      "text/plain": [
       "<Figure size 432x288 with 1 Axes>"
      ]
     },
     "metadata": {
      "needs_background": "light"
     },
     "output_type": "display_data"
    }
   ],
   "source": [
    "# draw turnover chance PM exploration\n",
    "print(\" - Iconicity levels from running the model for \" + str(nb_iterations) + \" iteration(s) for each parameter value:\")\n",
    "plot_average_iconicities(df, chances, \"Turnover chance (%)\", nb_iterations)"
   ]
  },
  {
   "cell_type": "markdown",
   "metadata": {},
   "source": [
    "### Learning error degree"
   ]
  },
  {
   "cell_type": "markdown",
   "metadata": {},
   "source": [
    "Next up is the learning error degree; we will test various values that determine the error an agent makes while acquiring the phonological component of a sign."
   ]
  },
  {
   "cell_type": "code",
   "execution_count": 20,
   "metadata": {},
   "outputs": [
    {
     "name": "stderr",
     "output_type": "stream",
     "text": [
      "4it [00:00, 14.07it/s]"
     ]
    },
    {
     "name": "stdout",
     "output_type": "stream",
     "text": [
      "STATISTICS FOR LEARNING ERROR DEGREE PARAMETER EXPLORATION\n",
      " - Possible values: [20, 40, 60, 80]\n",
      " - Ran for 1 iteration(s) and 1 steps per iteration\n",
      "\n",
      " - Data from running the model for 1 iteration(s) for each parameter value:\n"
     ]
    },
    {
     "name": "stderr",
     "output_type": "stream",
     "text": [
      "\n"
     ]
    },
    {
     "data": {
      "text/html": [
       "<div>\n",
       "<style scoped>\n",
       "    .dataframe tbody tr th:only-of-type {\n",
       "        vertical-align: middle;\n",
       "    }\n",
       "\n",
       "    .dataframe tbody tr th {\n",
       "        vertical-align: top;\n",
       "    }\n",
       "\n",
       "    .dataframe thead th {\n",
       "        text-align: right;\n",
       "    }\n",
       "</style>\n",
       "<table border=\"1\" class=\"dataframe\">\n",
       "  <thead>\n",
       "    <tr style=\"text-align: right;\">\n",
       "      <th></th>\n",
       "      <th>learning_error_degree</th>\n",
       "      <th>Run</th>\n",
       "      <th>L1 avg. iconicity</th>\n",
       "      <th>L2 avg. iconicity</th>\n",
       "      <th>Total avg. iconicity</th>\n",
       "    </tr>\n",
       "  </thead>\n",
       "  <tbody>\n",
       "    <tr>\n",
       "      <th>0</th>\n",
       "      <td>20</td>\n",
       "      <td>0</td>\n",
       "      <td>0.81</td>\n",
       "      <td>0</td>\n",
       "      <td>0.81</td>\n",
       "    </tr>\n",
       "    <tr>\n",
       "      <th>1</th>\n",
       "      <td>40</td>\n",
       "      <td>1</td>\n",
       "      <td>0.64</td>\n",
       "      <td>0</td>\n",
       "      <td>0.64</td>\n",
       "    </tr>\n",
       "    <tr>\n",
       "      <th>2</th>\n",
       "      <td>60</td>\n",
       "      <td>2</td>\n",
       "      <td>0.47</td>\n",
       "      <td>0</td>\n",
       "      <td>0.47</td>\n",
       "    </tr>\n",
       "    <tr>\n",
       "      <th>3</th>\n",
       "      <td>80</td>\n",
       "      <td>3</td>\n",
       "      <td>0.30</td>\n",
       "      <td>0</td>\n",
       "      <td>0.30</td>\n",
       "    </tr>\n",
       "  </tbody>\n",
       "</table>\n",
       "</div>"
      ],
      "text/plain": [
       "   learning_error_degree  Run  L1 avg. iconicity  L2 avg. iconicity  \\\n",
       "0                     20    0               0.81                  0   \n",
       "1                     40    1               0.64                  0   \n",
       "2                     60    2               0.47                  0   \n",
       "3                     80    3               0.30                  0   \n",
       "\n",
       "   Total avg. iconicity  \n",
       "0                  0.81  \n",
       "1                  0.64  \n",
       "2                  0.47  \n",
       "3                  0.30  "
      ]
     },
     "execution_count": 20,
     "metadata": {},
     "output_type": "execute_result"
    }
   ],
   "source": [
    "# define the values of the variable pm and amount of iterations and steps per iteration\n",
    "errors = [20, 40, 60, 80]\n",
    "nb_iterations = 10\n",
    "nb_steps = 100\n",
    "\n",
    "# define the fixed and variable parameters\n",
    "fixed_pm = {\"width\": 10,\n",
    "            \"height\": 10,\n",
    "            \"vocab_size\": 10,\n",
    "            \"word_length\": 5,\n",
    "            \"turnover_chance\": 20,\n",
    "            \"turnover_threshold\": 10,\n",
    "            \"initial_degree_of_iconicity\": 100,\n",
    "            \"l2_radius\": 100,\n",
    "            \"l2_replace_chance\": 50}\n",
    "variable_pm = {\"learning_error_degree\": errors}\n",
    "\n",
    "# run the batchrunner\n",
    "df = run_batchrunner(IconicityModel, fixed_pm, variable_pm, nb_iterations, nb_steps)\n",
    "\n",
    "# print the statistics\n",
    "print(\"STATISTICS FOR LEARNING ERROR DEGREE PARAMETER EXPLORATION\")\n",
    "print(\" - Possible values: \" + str(errors))\n",
    "print(\" - Ran for \" + str(nb_iterations) + \" iteration(s) and \" + str(nb_steps) + \" steps per iteration\\n\")\n",
    "print(\" - Data from running the model for \" + str(nb_iterations) + \" iteration(s) for each parameter value:\")\n",
    "print_dataframe(df, \"learning_error_degree\")"
   ]
  },
  {
   "cell_type": "code",
   "execution_count": 21,
   "metadata": {},
   "outputs": [
    {
     "name": "stdout",
     "output_type": "stream",
     "text": [
      " - Iconicity levels from running the model for 1 iteration(s) for each parameter value:\n"
     ]
    },
    {
     "data": {
      "image/png": "[encoded data removed]",
      "text/plain": [
       "<Figure size 432x288 with 1 Axes>"
      ]
     },
     "metadata": {
      "needs_background": "light"
     },
     "output_type": "display_data"
    },
    {
     "data": {
      "image/png": "[encoded data removed]",
      "text/plain": [
       "<Figure size 432x288 with 1 Axes>"
      ]
     },
     "metadata": {
      "needs_background": "light"
     },
     "output_type": "display_data"
    },
    {
     "data": {
      "image/png": "[encoded data removed]",
      "text/plain": [
       "<Figure size 432x288 with 1 Axes>"
      ]
     },
     "metadata": {
      "needs_background": "light"
     },
     "output_type": "display_data"
    }
   ],
   "source": [
    "# draw learning error degree PM exploration\n",
    "print(\" - Iconicity levels from running the model for \" + str(nb_iterations) + \" iteration(s) for each parameter value:\")\n",
    "plot_average_iconicities(df, errors, \"Learning error degree\", nb_iterations)"
   ]
  },
  {
   "cell_type": "code",
   "execution_count": null,
   "metadata": {},
   "outputs": [],
   "source": []
  }
 ],
 "metadata": {
  "kernelspec": {
   "display_name": "Python 3",
   "language": "python",
   "name": "python3"
  },
  "language_info": {
   "codemirror_mode": {
    "name": "ipython",
    "version": 3
   },
   "file_extension": ".py",
   "mimetype": "text/x-python",
   "name": "python",
   "nbconvert_exporter": "python",
   "pygments_lexer": "ipython3",
   "version": "3.7.6"
  }
 },
 "nbformat": 4,
 "nbformat_minor": 4
}
