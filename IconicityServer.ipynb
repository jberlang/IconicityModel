{
 "cells": [
  {
   "cell_type": "markdown",
   "metadata": {},
   "source": [
    "# Packages"
   ]
  },
  {
   "cell_type": "markdown",
   "metadata": {},
   "source": [
    "The cell below contains the packages that are used in the code."
   ]
  },
  {
   "cell_type": "code",
   "execution_count": 1,
   "metadata": {},
   "outputs": [],
   "source": [
    "from mesa.visualization.modules import CanvasGrid\n",
    "from mesa.visualization.ModularVisualization import ModularServer\n",
    "from IconicityModel import *\n",
    "\n",
    "# workaround for the tornado 5.0 bug\n",
    "import nest_asyncio\n",
    "nest_asyncio.apply()"
   ]
  },
  {
   "cell_type": "markdown",
   "metadata": {},
   "source": [
    "# Agent representation\n",
    "\n",
    "This section contains code about the agent representation. Agents will be represented via circles. The colour and whether it is a filled circle or not depends on the properties of the agent.\n",
    "\n",
    "The radius of the circles indicate the age of the agent. A smaller circle represents an agent of age 0 and a bigger circle represents an agent of age 1. The colour indicates the age of acquisition of the agent; green stands for L1 signers and red for L2 signers."
   ]
  },
  {
   "cell_type": "code",
   "execution_count": 2,
   "metadata": {},
   "outputs": [],
   "source": [
    "def agent_representation(agent):\n",
    "    iconicity_level = round(agent.iconicity_ratio() * 100)\n",
    "    representation = {\n",
    "                      # shape and colour of the agent\n",
    "                      \"Shape\": \"circle\",\n",
    "                      \"Filled\": \"true\",\n",
    "                      \"r\": 0.5,\n",
    "                      \n",
    "                      # visible properties in visualisation\n",
    "                      \"Age of acquisition\": agent.aoa,\n",
    "                      \"Age\": agent.age,\n",
    "                      \"Avg. iconicity level\": str(iconicity_level) + \"%\",\n",
    "        \n",
    "                      # drawing layer\n",
    "                      \"Layer\": 0,\n",
    "                      }\n",
    "    \n",
    "    if agent.age == 0:\n",
    "        representation[\"r\"] = 0.3\n",
    "    elif agent.age == 1:\n",
    "        representation[\"r\"] = 0.5\n",
    "        \n",
    "    if agent.aoa == \"L1\":\n",
    "        representation[\"Color\"] = \"green\"\n",
    "    elif agent.aoa == \"L2\":\n",
    "        representation[\"Color\"] = \"red\"\n",
    "\n",
    "    return representation"
   ]
  },
  {
   "cell_type": "markdown",
   "metadata": {},
   "source": [
    "# Grid representation\n",
    "\n",
    "This section contains code about the grid representation."
   ]
  },
  {
   "cell_type": "code",
   "execution_count": 3,
   "metadata": {},
   "outputs": [],
   "source": [
    "grid = CanvasGrid(agent_representation, 10, 10, 500, 500)"
   ]
  },
  {
   "cell_type": "markdown",
   "metadata": {},
   "source": [
    "# Server representation\n",
    "\n",
    "This section contains code about the server representation."
   ]
  },
  {
   "cell_type": "code",
   "execution_count": null,
   "metadata": {},
   "outputs": [
    {
     "name": "stdout",
     "output_type": "stream",
     "text": [
      "Interface starting at http://127.0.0.1:8521\n",
      "Socket opened!\n",
      "{\"type\":\"reset\"}\n",
      "{\"type\":\"get_step\",\"step\":1}\n",
      "{\"type\":\"get_step\",\"step\":2}\n"
     ]
    }
   ],
   "source": [
    "server = ModularServer(IconicityModel,\n",
    "                       [grid],\n",
    "                       \"Iconicity Model\",\n",
    "                       {\"width\":10, \"height\":10, \"vocab_size\":10, \"word_length\":5, \"initial_degree_of_iconicity\":0.8, \"learning_error\":1})\n",
    "server.port = 8521\n",
    "server.launch()"
   ]
  },
  {
   "cell_type": "code",
   "execution_count": null,
   "metadata": {},
   "outputs": [],
   "source": []
  }
 ],
 "metadata": {
  "kernelspec": {
   "display_name": "Python 3",
   "language": "python",
   "name": "python3"
  },
  "language_info": {
   "codemirror_mode": {
    "name": "ipython",
    "version": 3
   },
   "file_extension": ".py",
   "mimetype": "text/x-python",
   "name": "python",
   "nbconvert_exporter": "python",
   "pygments_lexer": "ipython3",
   "version": "3.7.6"
  }
 },
 "nbformat": 4,
 "nbformat_minor": 4
}
