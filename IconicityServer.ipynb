{
 "cells": [
  {
   "cell_type": "markdown",
   "metadata": {},
   "source": [
    "# Packages"
   ]
  },
  {
   "cell_type": "markdown",
   "metadata": {},
   "source": [
    "The cell below contains the packages that are used in the code."
   ]
  },
  {
   "cell_type": "code",
   "execution_count": 1,
   "metadata": {},
   "outputs": [],
   "source": [
    "from mesa.visualization.modules import CanvasGrid, ChartModule\n",
    "from mesa.visualization.UserParam import UserSettableParameter\n",
    "from mesa.visualization.ModularVisualization import ModularServer\n",
    "from mesa.batchrunner import BatchRunner\n",
    "from IconicityModel import *\n",
    "import pandas as pd\n",
    " \n",
    "# workaround for the tornado 5.0 bug\n",
    "import nest_asyncio\n",
    "nest_asyncio.apply()"
   ]
  },
  {
   "cell_type": "markdown",
   "metadata": {},
   "source": [
    "# Agent representation\n",
    "\n",
    "This section contains code about the agent representation. Agents will be represented via circles. The colour and whether it is a filled circle or not depends on the properties of the agent.\n",
    "\n",
    "The radius of the circles indicate the age of the agent. A smaller circle represents an agent of age 0 and a bigger circle represents an agent of age 1. The colour indicates the age of acquisition of the agent; green stands for L1 signers and red for L2 signers."
   ]
  },
  {
   "cell_type": "code",
   "execution_count": 2,
   "metadata": {},
   "outputs": [],
   "source": [
    "def agent_representation(agent):\n",
    "    iconicity_degree = round(agent.average_iconicity_degree())\n",
    "    representation = {\n",
    "                      # shape and colour of the agent\n",
    "                      \"Shape\": \"circle\",\n",
    "                      \"Filled\": \"true\",\n",
    "                      \"r\": 0.5,\n",
    "                      \n",
    "                      # visible properties in visualisation\n",
    "                      \"Age of acquisition\": agent.aoa,\n",
    "                      \"Age\": agent.age,\n",
    "                      \"Avg. iconicity level\": str(iconicity_degree) + \"%\",\n",
    "        \n",
    "                      # drawing layer\n",
    "                      \"Layer\": 0,\n",
    "                      }\n",
    "    \n",
    "    if agent.age == 0:\n",
    "        representation[\"r\"] = 0.3\n",
    "    elif agent.age == 1:\n",
    "        representation[\"r\"] = 0.5\n",
    "        \n",
    "    if agent.aoa == \"L1\":\n",
    "        representation[\"Color\"] = green_colour(iconicity_degree)\n",
    "    elif agent.aoa == \"L2\":\n",
    "        representation[\"Color\"] = red_colour(iconicity_degree)\n",
    "                                             \n",
    "    return representation\n",
    "    \n",
    "def green_colour(iconicity_degree):\n",
    "    if iconicity_degree <= 33:\n",
    "        return \"#d9ffbf\"\n",
    "    elif iconicity_degree <= 66:\n",
    "        return \"#85cc6f\"\n",
    "    elif iconicity_degree <= 100:\n",
    "        return \"#136207\"\n",
    "\n",
    "def red_colour(iconicity_degree):\n",
    "    if iconicity_degree <= 33:\n",
    "        return \"#d19999\"\n",
    "    elif iconicity_degree <= 66:\n",
    "        return \"#ae4d4d\"\n",
    "    elif iconicity_degree <= 100:\n",
    "        return \"#8b0000\""
   ]
  },
  {
   "cell_type": "markdown",
   "metadata": {},
   "source": [
    "# Grid representation\n",
    "\n",
    "This section contains code about the grid representation."
   ]
  },
  {
   "cell_type": "code",
   "execution_count": 3,
   "metadata": {},
   "outputs": [],
   "source": [
    "grid = CanvasGrid(agent_representation, 10, 10, 500, 500)"
   ]
  },
  {
   "cell_type": "markdown",
   "metadata": {},
   "source": [
    "# Server representation\n",
    "\n",
    "This section contains code about the server representation."
   ]
  },
  {
   "cell_type": "code",
   "execution_count": 4,
   "metadata": {},
   "outputs": [],
   "source": [
    "# Word length\n",
    "initial_word_length = 5\n",
    "maximal_word_length = 10\n",
    "minimal_word_length = 5\n",
    "\n",
    "# Vocabulary size\n",
    "initial_vocab_size = 5\n",
    "maximal_vocab_size = 2 ** maximal_word_length\n",
    "minimal_vocab_size = 5\n",
    "\n",
    "\n",
    "model_pms = {\"width\":10,\n",
    "             \"height\":10,\n",
    "             \"word_length\": UserSettableParameter('slider', 'Word length', initial_word_length, minimal_word_length, maximal_word_length),\n",
    "             \"vocab_size\": UserSettableParameter('slider', 'Vocabulary size', initial_vocab_size, minimal_vocab_size, maximal_vocab_size),\n",
    "             \"initial_degree_of_iconicity\": UserSettableParameter('slider', \"Initial iconicity %\", 60, 0, 100),\n",
    "             \"learning_error_degree\": UserSettableParameter('slider', \"L2 learning error %\", 20, 0, 100),\n",
    "             \"turnover_chance\": UserSettableParameter('slider', 'Turnover chance (%)', 50, 0, 100),\n",
    "             \"turnover_threshold\": UserSettableParameter('slider', 'Turnover threshold', 10, 5, 50),\n",
    "             \"l2_radius\": UserSettableParameter('slider', 'L2 acquisition radius', 100, 1, 100),\n",
    "             \"l2_replace_chance\": UserSettableParameter('slider', 'L2 replace chance', 50, 0, 100)}"
   ]
  },
  {
   "cell_type": "code",
   "execution_count": 5,
   "metadata": {},
   "outputs": [],
   "source": [
    "chart = ChartModule([#{\"Label\": \"Total avg. iconicity\",\n",
    "                      #\"Color\": \"Black\"},\n",
    "                     {\"Label\": \"L1 avg. iconicity\",\n",
    "                      \"Color\": \"Green\"},\n",
    "                     {\"Label\": \"L2 avg. iconicity\",\n",
    "                      \"Color\": \"Red\"},\n",
    "                     {\"Label\": \"Avg. convergence ratio\",\n",
    "                      \"Color\": \"Blue\"}\n",
    "                    ],\n",
    "                   data_collector_name=\"datacollector\")"
   ]
  },
  {
   "cell_type": "code",
   "execution_count": null,
   "metadata": {},
   "outputs": [
    {
     "name": "stdout",
     "output_type": "stream",
     "text": [
      "Interface starting at http://127.0.0.1:8521\n",
      "Socket opened!\n",
      "{\"type\":\"reset\"}\n",
      "{\"type\":\"submit_params\",\"param\":\"l2_replace_chance\",\"value\":51}\n",
      "{\"type\":\"submit_params\",\"param\":\"l2_replace_chance\",\"value\":50}\n",
      "{\"type\":\"submit_params\",\"param\":\"l2_replace_chance\",\"value\":49}\n",
      "{\"type\":\"submit_params\",\"param\":\"l2_replace_chance\",\"value\":48}\n",
      "{\"type\":\"submit_params\",\"param\":\"l2_replace_chance\",\"value\":40}\n",
      "{\"type\":\"submit_params\",\"param\":\"l2_replace_chance\",\"value\":23}\n",
      "{\"type\":\"submit_params\",\"param\":\"l2_replace_chance\",\"value\":13}\n",
      "{\"type\":\"submit_params\",\"param\":\"l2_replace_chance\",\"value\":0}\n",
      "{\"type\":\"submit_params\",\"param\":\"l2_radius\",\"value\":97}\n",
      "{\"type\":\"submit_params\",\"param\":\"l2_radius\",\"value\":86}\n",
      "{\"type\":\"submit_params\",\"param\":\"l2_radius\",\"value\":78}\n",
      "{\"type\":\"submit_params\",\"param\":\"l2_radius\",\"value\":58}\n",
      "{\"type\":\"submit_params\",\"param\":\"l2_radius\",\"value\":45}\n",
      "{\"type\":\"submit_params\",\"param\":\"l2_radius\",\"value\":16}\n",
      "{\"type\":\"submit_params\",\"param\":\"l2_radius\",\"value\":1}\n",
      "{\"type\":\"submit_params\",\"param\":\"turnover_threshold\",\"value\":9}\n",
      "{\"type\":\"submit_params\",\"param\":\"turnover_threshold\",\"value\":7}\n",
      "{\"type\":\"submit_params\",\"param\":\"turnover_threshold\",\"value\":5}\n",
      "{\"type\":\"submit_params\",\"param\":\"learning_error_degree\",\"value\":19}\n",
      "{\"type\":\"submit_params\",\"param\":\"learning_error_degree\",\"value\":17}\n",
      "{\"type\":\"submit_params\",\"param\":\"learning_error_degree\",\"value\":10}\n",
      "{\"type\":\"submit_params\",\"param\":\"learning_error_degree\",\"value\":6}\n",
      "{\"type\":\"submit_params\",\"param\":\"learning_error_degree\",\"value\":0}\n",
      "{\"type\":\"get_step\",\"step\":1}\n",
      "{\"type\":\"get_step\",\"step\":2}\n",
      "{\"type\":\"get_step\",\"step\":3}\n",
      "{\"type\":\"get_step\",\"step\":4}\n",
      "{\"type\":\"get_step\",\"step\":5}\n",
      "{\"type\":\"reset\"}\n",
      "{\"type\":\"get_step\",\"step\":1}\n",
      "{\"type\":\"get_step\",\"step\":2}\n",
      "{\"type\":\"get_step\",\"step\":3}\n",
      "{\"type\":\"get_step\",\"step\":4}\n",
      "{\"type\":\"get_step\",\"step\":5}\n",
      "{\"type\":\"get_step\",\"step\":6}\n",
      "{\"type\":\"get_step\",\"step\":7}\n",
      "{\"type\":\"get_step\",\"step\":8}\n",
      "{\"type\":\"get_step\",\"step\":9}\n",
      "{\"type\":\"get_step\",\"step\":10}\n",
      "{\"type\":\"get_step\",\"step\":11}\n",
      "{\"type\":\"get_step\",\"step\":12}\n",
      "{\"type\":\"reset\"}\n",
      "{\"type\":\"get_step\",\"step\":1}\n",
      "{\"type\":\"get_step\",\"step\":2}\n",
      "{\"type\":\"reset\"}\n",
      "{\"type\":\"get_step\",\"step\":1}\n",
      "{\"type\":\"get_step\",\"step\":2}\n",
      "{\"type\":\"get_step\",\"step\":3}\n",
      "{\"type\":\"get_step\",\"step\":4}\n",
      "{\"type\":\"get_step\",\"step\":5}\n",
      "{\"type\":\"get_step\",\"step\":6}\n",
      "{\"type\":\"get_step\",\"step\":7}\n",
      "{\"type\":\"get_step\",\"step\":8}\n",
      "{\"type\":\"get_step\",\"step\":9}\n",
      "{\"type\":\"get_step\",\"step\":10}\n",
      "{\"type\":\"get_step\",\"step\":11}\n",
      "{\"type\":\"get_step\",\"step\":12}\n",
      "{\"type\":\"get_step\",\"step\":13}\n",
      "{\"type\":\"get_step\",\"step\":14}\n",
      "{\"type\":\"get_step\",\"step\":15}\n",
      "{\"type\":\"get_step\",\"step\":16}\n",
      "{\"type\":\"get_step\",\"step\":17}\n",
      "{\"type\":\"get_step\",\"step\":18}\n",
      "{\"type\":\"get_step\",\"step\":19}\n",
      "{\"type\":\"get_step\",\"step\":20}\n",
      "{\"type\":\"get_step\",\"step\":21}\n",
      "{\"type\":\"get_step\",\"step\":22}\n",
      "{\"type\":\"get_step\",\"step\":23}\n",
      "{\"type\":\"get_step\",\"step\":24}\n",
      "{\"type\":\"get_step\",\"step\":25}\n",
      "{\"type\":\"get_step\",\"step\":26}\n",
      "{\"type\":\"get_step\",\"step\":27}\n",
      "{\"type\":\"get_step\",\"step\":28}\n",
      "{\"type\":\"get_step\",\"step\":29}\n",
      "{\"type\":\"get_step\",\"step\":30}\n",
      "{\"type\":\"get_step\",\"step\":31}\n",
      "{\"type\":\"get_step\",\"step\":32}\n",
      "{\"type\":\"get_step\",\"step\":33}\n",
      "{\"type\":\"get_step\",\"step\":34}\n",
      "{\"type\":\"get_step\",\"step\":35}\n",
      "{\"type\":\"get_step\",\"step\":36}\n",
      "{\"type\":\"get_step\",\"step\":37}\n",
      "{\"type\":\"get_step\",\"step\":38}\n"
     ]
    }
   ],
   "source": [
    "server = ModularServer(IconicityModel,\n",
    "                       [grid, chart],\n",
    "                       \"Iconicity Model\",\n",
    "                       model_pms)\n",
    "server.port = 8521\n",
    "server.launch()"
   ]
  },
  {
   "cell_type": "code",
   "execution_count": null,
   "metadata": {},
   "outputs": [],
   "source": []
  }
 ],
 "metadata": {
  "kernelspec": {
   "display_name": "Python 3",
   "language": "python",
   "name": "python3"
  },
  "language_info": {
   "codemirror_mode": {
    "name": "ipython",
    "version": 3
   },
   "file_extension": ".py",
   "mimetype": "text/x-python",
   "name": "python",
   "nbconvert_exporter": "python",
   "pygments_lexer": "ipython3",
   "version": "3.7.6"
  }
 },
 "nbformat": 4,
 "nbformat_minor": 4
}
